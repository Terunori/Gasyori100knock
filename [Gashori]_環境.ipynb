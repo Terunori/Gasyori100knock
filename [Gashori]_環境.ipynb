{
  "nbformat": 4,
  "nbformat_minor": 0,
  "metadata": {
    "colab": {
      "name": "[Gashori] 環境",
      "provenance": [],
      "collapsed_sections": [],
      "authorship_tag": "ABX9TyP0BF9RdL3A2lGYX77+XpI9",
      "include_colab_link": true
    },
    "kernelspec": {
      "name": "python3",
      "display_name": "Python 3"
    },
    "language_info": {
      "name": "python"
    },
    "accelerator": "GPU"
  },
  "cells": [
    {
      "cell_type": "markdown",
      "metadata": {
        "id": "view-in-github",
        "colab_type": "text"
      },
      "source": [
        "<a href=\"https://colab.research.google.com/github/Terunori/Gasyori100knock/blob/master/%5BGashori%5D_%E7%92%B0%E5%A2%83.ipynb\" target=\"_parent\"><img src=\"https://colab.research.google.com/assets/colab-badge.svg\" alt=\"Open In Colab\"/></a>"
      ]
    },
    {
      "cell_type": "markdown",
      "source": [
        "## Colabのよさ\n",
        "\n",
        "[Google Colaboratoryを使って簡単に機械学習をはじめよう!!](https://ueqareer.net/2980)\n",
        "\n",
        "- 機械学習の教育、研究を目的とした研究用ツール\n",
        "- Ubuntu上に構築されているJupyterノートブック環境でGPU,TPUが無料で使用できる\n",
        "- 連続利用などの利用制限がある\n",
        "\n",
        "[Google Colaboratoryを使えば環境構築不要・無料でPythonの機械学習ができて最高](https://karaage.hatenadiary.jp/entry/2018/03/21/073000)\n",
        "\n",
        "- ローカルPCに必要なのはブラウザ（Google Chrome, Edge）のみ\n",
        "- クラウド上にPython環境がある\n",
        "- 機械学習に必要なライブラリは、ある程度プリインストールされている（numpy, matplotlib, TensorFlow等）\n",
        "- 必要なライブラリは !pip installでインストールできる\n",
        "- その他コマンドも使える\n",
        "- 無料でも使える。なんとGPUも使える！(機械学習を本格的にやるには制限あり)\n"
      ],
      "metadata": {
        "id": "90MolubZDXuj"
      }
    },
    {
      "cell_type": "markdown",
      "source": [
        "## FYI\n",
        "- [FAQ](https://research.google.com/colaboratory/faq.html?hl=ja)\n",
        "- [Google Colaboratoryを便利に使うためのTIPSまとめ](https://karaage.hatenadiary.jp/entry/2018/12/17/073000)\n"
      ],
      "metadata": {
        "id": "NmD8xjsWTjbS"
      }
    },
    {
      "cell_type": "code",
      "execution_count": null,
      "metadata": {
        "id": "d-FDNVpnDIzF",
        "colab": {
          "base_uri": "https://localhost:8080/"
        },
        "outputId": "cffc459f-b7a8-4382-9b8f-d020b9402b19"
      },
      "outputs": [
        {
          "output_type": "stream",
          "name": "stdout",
          "text": [
            "Wed Jun  8 13:08:50 2022       \n",
            "+-----------------------------------------------------------------------------+\n",
            "| NVIDIA-SMI 460.32.03    Driver Version: 460.32.03    CUDA Version: 11.2     |\n",
            "|-------------------------------+----------------------+----------------------+\n",
            "| GPU  Name        Persistence-M| Bus-Id        Disp.A | Volatile Uncorr. ECC |\n",
            "| Fan  Temp  Perf  Pwr:Usage/Cap|         Memory-Usage | GPU-Util  Compute M. |\n",
            "|                               |                      |               MIG M. |\n",
            "|===============================+======================+======================|\n",
            "|   0  Tesla T4            Off  | 00000000:00:04.0 Off |                    0 |\n",
            "| N/A   41C    P8     9W /  70W |      0MiB / 15109MiB |      0%      Default |\n",
            "|                               |                      |                  N/A |\n",
            "+-------------------------------+----------------------+----------------------+\n",
            "                                                                               \n",
            "+-----------------------------------------------------------------------------+\n",
            "| Processes:                                                                  |\n",
            "|  GPU   GI   CI        PID   Type   Process name                  GPU Memory |\n",
            "|        ID   ID                                                   Usage      |\n",
            "|=============================================================================|\n",
            "|  No running processes found                                                 |\n",
            "+-----------------------------------------------------------------------------+\n"
          ]
        }
      ],
      "source": [
        "# gpu\n",
        "# ランタイムをGPUにする必要あり\n",
        "# 3種からランダムで選ばれるガチャ要素\n",
        "# 機械学習などしないならNONEのままでOK\n",
        "!nvidia-smi"
      ]
    },
    {
      "cell_type": "code",
      "source": [
        "# cpu\n",
        "!lscpu"
      ],
      "metadata": {
        "id": "69Tt9NPcEA4_"
      },
      "execution_count": null,
      "outputs": []
    },
    {
      "cell_type": "code",
      "source": [
        "# memory\n",
        "!free"
      ],
      "metadata": {
        "id": "5_CefFW8ELxQ"
      },
      "execution_count": null,
      "outputs": []
    },
    {
      "cell_type": "code",
      "source": [
        "# python\n",
        "!python -V"
      ],
      "metadata": {
        "id": "VGe3OxdkESj2"
      },
      "execution_count": null,
      "outputs": []
    },
    {
      "cell_type": "code",
      "source": [
        "!pip list"
      ],
      "metadata": {
        "id": "fOxa-gEYEkEZ"
      },
      "execution_count": null,
      "outputs": []
    },
    {
      "cell_type": "code",
      "source": [
        "# python code\n",
        "print(\"HELLO WORLD\")"
      ],
      "metadata": {
        "id": "hhKVPJ57Em5b"
      },
      "execution_count": null,
      "outputs": []
    },
    {
      "cell_type": "code",
      "source": [
        "# python code fizzbuzz\n",
        "from tqdm import tqdm\n",
        "\n",
        "ans = []\n",
        "for i in tqdm(range(1,101)):\n",
        "  text = \"\"\n",
        "  if i%3 == 0:\n",
        "    text += \"Fizz\"\n",
        "  if i%5 == 0:\n",
        "    text += \"Buzz\"\n",
        "  if \"z\" not in text:\n",
        "    text = i\n",
        "  ans.append(text)\n",
        "print(ans)"
      ],
      "metadata": {
        "id": "E0nGOjeGEvkb"
      },
      "execution_count": null,
      "outputs": []
    },
    {
      "cell_type": "code",
      "source": [
        "# グラフ表示\n",
        "import numpy as np\n",
        "import pandas as pd\n",
        "import matplotlib.pyplot as plt\n",
        "%matplotlib inline\n",
        "import seaborn as sns\n",
        "  \n",
        "#irisデータセットを変数dfに代入\n",
        "df = sns.load_dataset('iris')\n",
        "\n",
        "#ラベルごとに色分けして表示\n",
        "sns.pairplot(data=df, hue='species')\n",
        "plt.show()\n",
        " "
      ],
      "metadata": {
        "id": "ISIsabtZI7zF"
      },
      "execution_count": null,
      "outputs": []
    },
    {
      "cell_type": "markdown",
      "source": [
        "## Gashori\n",
        "\n"
      ],
      "metadata": {
        "id": "rYZBguwsGs7r"
      }
    },
    {
      "cell_type": "code",
      "source": [
        "# データダウンロード\n",
        "! git clone https://github.com/yoyoyo-yo/Gasyori100knock\n",
        "\n",
        "# 左のフォルダから見れる"
      ],
      "metadata": {
        "id": "JMr2osLQIwQ2"
      },
      "execution_count": null,
      "outputs": []
    },
    {
      "cell_type": "code",
      "source": [
        "# 画像読み込み、表示\n",
        "# ファイルツリーから画像表示も可能\n",
        "from google.colab.patches import cv2_imshow\n",
        "from skimage import io\n",
        "\n",
        "# RGBフォーマットで読み込む\n",
        "img = io.imread('./Gasyori100knock/dataset/images/imori_256x256.png')\n",
        "\n",
        "# matplotlibはRGBフォーマットで表示する\n",
        "import matplotlib.pyplot as plt\n",
        "plt.imshow(img)"
      ],
      "metadata": {
        "id": "ovNLpGelHQ5h"
      },
      "execution_count": null,
      "outputs": []
    },
    {
      "cell_type": "code",
      "source": [
        "# いわゆる OpenCV: 画像処理超有名ライブラリ\n",
        "import cv2\n",
        "\n",
        "# opencvで読み込むとBGRフォーマットになっている\n",
        "img_bgr = cv2.imread('./Gasyori100knock/dataset/images/imori_256x256.png')\n",
        "# cv2_imshowはBGRフォーマットを表示する\n",
        "cv2_imshow(img_bgr)"
      ],
      "metadata": {
        "id": "-WUh7e3yUlsv"
      },
      "execution_count": null,
      "outputs": []
    },
    {
      "cell_type": "code",
      "source": [
        "# BGRフォーマットで読み込む\n",
        "img_bgr = cv2.imread('./Gasyori100knock/dataset/images/imori_256x256.png')\n",
        "\n",
        "# RGBフォーマットで表示\n",
        "# RとGが入れ替わっている\n",
        "plt.imshow(img_bgr)\n",
        "plt.show()\n",
        "\n",
        "# BとRを入れ替えてRGBフォーマットにする\n",
        "\n",
        "img_cvt = cv2.cvtColor(img_bgr, cv2.COLOR_BGR2RGB)\n",
        "\n",
        "plt.imshow(img_cvt)\n",
        "plt.show()"
      ],
      "metadata": {
        "id": "ASjYb6SVWm-M"
      },
      "execution_count": null,
      "outputs": []
    },
    {
      "cell_type": "code",
      "source": [
        "# 画像の実体は各画素の色情報の入った配列\n",
        "img_bgr"
      ],
      "metadata": {
        "id": "x54f6PcVYxSD"
      },
      "execution_count": null,
      "outputs": []
    },
    {
      "cell_type": "code",
      "source": [
        "# 画像の実体は各画素の色情報の入った配列\n",
        "# このc情報の順序がBGRだったりRGBだったりする\n",
        "\n",
        "print(\"h,w,cの順\")\n",
        "print(img_bgr.shape)\n",
        "\n",
        "print(\"\\nimg_bgr\\n\")\n",
        "print(img_bgr[:3,:3,:])\n",
        "print(\"\\nimg_cvt\\n\")\n",
        "print(img_cvt[:3,:3,:])\n"
      ],
      "metadata": {
        "id": "_A2FZMocMjPc"
      },
      "execution_count": null,
      "outputs": []
    },
    {
      "cell_type": "markdown",
      "source": [
        "## Google Driveから動かせるようにしておく\n",
        "\n",
        "78MB程度なのですが、保存しておくと楽"
      ],
      "metadata": {
        "id": "Z7ThMMsVMKXh"
      }
    },
    {
      "cell_type": "code",
      "source": [
        "# 自分のGoogle Driveに保存\n",
        "# driveを接続\n",
        "from google.colab import drive\n",
        "drive.mount('/content/drive')"
      ],
      "metadata": {
        "id": "46-11_9QHYPR"
      },
      "execution_count": null,
      "outputs": []
    },
    {
      "cell_type": "code",
      "source": [
        "# コピー\n",
        "! cp -r Gasyori100knock /content/drive/MyDrive/Colab\\ Notebooks/"
      ],
      "metadata": {
        "id": "4nw2mpFPKapI"
      },
      "execution_count": null,
      "outputs": []
    },
    {
      "cell_type": "markdown",
      "source": [
        "## その他100本ノックまとめ\n",
        "https://qiita.com/karaage0703/items/7b5d54223d06e4b6ef0f"
      ],
      "metadata": {
        "id": "UcKAS2quTefw"
      }
    },
    {
      "cell_type": "code",
      "source": [
        ""
      ],
      "metadata": {
        "id": "1fZk4lIfTimV"
      },
      "execution_count": null,
      "outputs": []
    }
  ]
}